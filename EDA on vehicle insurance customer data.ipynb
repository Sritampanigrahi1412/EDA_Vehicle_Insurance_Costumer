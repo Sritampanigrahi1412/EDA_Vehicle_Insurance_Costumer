{
 "cells": [
  {
   "cell_type": "code",
   "execution_count": null,
   "id": "0ba79f0f",
   "metadata": {},
   "outputs": [],
   "source": [
    "import warnings\n",
    "warnings.filterwarnings('ignore')"
   ]
  },
  {
   "cell_type": "markdown",
   "id": "1b54f1a9",
   "metadata": {},
   "source": [
    "# 1"
   ]
  },
  {
   "cell_type": "code",
   "execution_count": null,
   "id": "82dea6ec",
   "metadata": {},
   "outputs": [],
   "source": [
    "import pandas as pd\n",
    "customer_detail_df=pd.read_csv(\".\\customer_details.csv\")\n",
    "customer_detail_df.columns=[\"customer_id\",\"Gender\",\"age\",\"driving licence present\",\"region code\",\"previously insured\",\"vehicle age\",\"vehicle damage\"]\n",
    "customer_policy_detail_df=pd.read_csv(\".\\customer_policy_details.csv\")\n",
    "customer_policy_detail_df.columns=[\"customer_id\",\"annual premium (in Rs)\",\"sales channel code\",\"vintage\",\"response\"]"
   ]
  },
  {
   "cell_type": "markdown",
   "id": "97a5cbc6",
   "metadata": {},
   "source": [
    "# 2"
   ]
  },
  {
   "cell_type": "code",
   "execution_count": null,
   "id": "75610800",
   "metadata": {},
   "outputs": [],
   "source": [
    "customer_detail_df.shape\n",
    "\n",
    "print(\"Null value in 'customer_id' : \",customer_detail_df[\"customer_id\"].isnull().sum())\n",
    "customer_detail_df=customer_detail_df.dropna(subset=[\"customer_id\"])\n",
    "print(\"Null value in 'customer_id' after droping : \",customer_detail_df[\"customer_id\"].isnull().sum())\n",
    "\n",
    "print(\"Null value in 'Gender' : \",customer_detail_df[\"Gender\"].isnull().sum())\n",
    "customer_detail_df[\"Gender\"]=customer_detail_df[\"Gender\"].fillna(customer_detail_df[\"Gender\"].mode()[0])\n",
    "print(\"Null value in 'Gender' after replacing : \",customer_detail_df[\"Gender\"].isnull().sum())\n",
    "\n",
    "print(\"Null value in 'age' : \",customer_detail_df[\"age\"].isnull().sum())\n",
    "customer_detail_df[\"age\"]=customer_detail_df[\"age\"].fillna(customer_detail_df[\"age\"].mean())\n",
    "print(\"Null value in 'age' after replacing : \",customer_detail_df[\"age\"].isnull().sum())\n",
    "\n",
    "print(\"Null value in 'driving licence present' : \",customer_detail_df[\"driving licence present\"].isnull().sum())\n",
    "customer_detail_df[\"driving licence present\"]=customer_detail_df[\"driving licence present\"].fillna(customer_detail_df[\"driving licence present\"].mode()[0])\n",
    "print(\"Null value in 'driving licence present' after replacing : \",customer_detail_df[\"driving licence present\"].isnull().sum())\n",
    "\n",
    "print(\"Null value in 'region code' : \",customer_detail_df[\"region code\"].isnull().sum())\n",
    "customer_detail_df[\"region code\"]=customer_detail_df[\"region code\"].fillna(customer_detail_df[\"region code\"].mode()[0])\n",
    "print(\"Null value in 'region code' after replacing : \",customer_detail_df[\"region code\"].isnull().sum())\n",
    "\n",
    "print(\"Null value in 'previously insured' : \",customer_detail_df[\"previously insured\"].isnull().sum())\n",
    "customer_detail_df[\"previously insured\"]=customer_detail_df[\"previously insured\"].fillna(customer_detail_df[\"previously insured\"].mode()[0])\n",
    "print(\"Null value in 'previously insured' after replacing : \",customer_detail_df[\"previously insured\"].isnull().sum())\n",
    "\n",
    "print(\"Null value in 'vehicle age' : \",customer_detail_df[\"vehicle age\"].isnull().sum())\n",
    "customer_detail_df[\"vehicle age\"]=customer_detail_df[\"vehicle age\"].fillna(customer_detail_df[\"vehicle age\"].mode()[0])\n",
    "print(\"Null value in 'vehicle age' after replacing : \",customer_detail_df[\"vehicle age\"].isnull().sum())\n",
    "\n",
    "print(\"Null value in 'vehicle damage' : \",customer_detail_df[\"vehicle damage\"].isnull().sum())\n",
    "customer_detail_df[\"vehicle damage\"]=customer_detail_df[\"vehicle damage\"].fillna(customer_detail_df[\"vehicle damage\"].mode()[0])\n",
    "print(\"Null value in 'vehicle damage' after replacing : \",customer_detail_df[\"vehicle damage\"].isnull().sum())\n",
    "\n",
    "print(\"Null value in 'customer_id' : \",customer_policy_detail_df[\"customer_id\"].isnull().sum())\n",
    "customer_policy_detail_df=customer_policy_detail_df.dropna(subset=[\"customer_id\"])\n",
    "print(\"Null value in 'customer_id' after droping : \",customer_policy_detail_df[\"customer_id\"].isnull().sum())\n",
    "\n",
    "print(\"Null value in 'annual premium (in Rs)' : \",customer_policy_detail_df[\"annual premium (in Rs)\"].isnull().sum())\n",
    "customer_policy_detail_df[\"annual premium (in Rs)\"]=customer_policy_detail_df[\"annual premium (in Rs)\"].fillna(customer_policy_detail_df[\"annual premium (in Rs)\"].mean())\n",
    "print(\"Null value in 'annual premium (in Rs)' after replacing : \",customer_policy_detail_df[\"annual premium (in Rs)\"].isnull().sum())\n",
    "\n",
    "print(\"Null value in 'sales channel code' : \",customer_policy_detail_df[\"sales channel code\"].isnull().sum())\n",
    "customer_policy_detail_df[\"sales channel code\"]=customer_policy_detail_df[\"sales channel code\"].fillna(customer_policy_detail_df[\"sales channel code\"].mode()[0])\n",
    "print(\"Null value in 'sales channel code' after replacing : \",customer_policy_detail_df[\"sales channel code\"].isnull().sum())\n",
    "\n",
    "print(\"Null value in 'vintage' : \",customer_policy_detail_df[\"vintage\"].isnull().sum())\n",
    "customer_policy_detail_df[\"vintage\"]=customer_policy_detail_df[\"vintage\"].fillna(customer_policy_detail_df[\"vintage\"].mean())\n",
    "print(\"Null value in 'vintage' after replacing : \",customer_policy_detail_df[\"vintage\"].isnull().sum())\n",
    "\n",
    "print(\"Null value in 'response' : \",customer_policy_detail_df[\"response\"].isnull().sum())\n",
    "customer_policy_detail_df[\"response\"]=customer_policy_detail_df[\"response\"].fillna(customer_policy_detail_df[\"response\"].mode()[0])\n",
    "print(\"Null value in 'response' after replacing : \",customer_policy_detail_df[\"response\"].isnull().sum())\n",
    "\n",
    "customer_detail_df.describe()\n",
    "customer_policy_detail_df.describe()\n",
    "Q1=customer_detail_df.describe().loc[\"25%\",\"age\"]\n",
    "Q3=customer_detail_df.describe().loc[\"75%\",\"age\"]\n",
    "IQR=Q3-Q1\n",
    "print(customer_detail_df.loc[customer_detail_df[\"age\"]<(Q1-IQR*1.5),\"age\"].count())\n",
    "print(customer_detail_df.loc[customer_detail_df[\"age\"]>(Q3+IQR*1.5),\"age\"].count())\n",
    "\n",
    "Q1=customer_policy_detail_df.describe().loc[\"25%\",\"annual premium (in Rs)\"]\n",
    "Q3=customer_policy_detail_df.describe().loc[\"75%\",\"annual premium (in Rs)\"]\n",
    "IQR=Q3-Q1\n",
    "print(customer_policy_detail_df.loc[customer_policy_detail_df[\"annual premium (in Rs)\"]<(Q1-IQR*1.5),\"annual premium (in Rs)\"].count())\n",
    "print(customer_policy_detail_df.loc[customer_policy_detail_df[\"annual premium (in Rs)\"]>(Q3+IQR*1.5),\"annual premium (in Rs)\"].count())\n",
    "customer_policy_detail_df.loc[customer_policy_detail_df[\"annual premium (in Rs)\"]>(Q3+IQR*1.5),\"annual premium (in Rs)\"]=customer_policy_detail_df[\"annual premium (in Rs)\"].mean()\n",
    "print(customer_policy_detail_df.loc[customer_policy_detail_df[\"annual premium (in Rs)\"]>(Q3+IQR*1.5),\"annual premium (in Rs)\"].count())\n",
    "Q1=customer_policy_detail_df.describe().loc[\"25%\",\"vintage\"]\n",
    "Q3=customer_policy_detail_df.describe().loc[\"75%\",\"vintage\"]\n",
    "IQR=Q3-Q1\n",
    "print(customer_policy_detail_df.loc[customer_policy_detail_df[\"vintage\"]<(Q1-IQR*1.5),\"vintage\"].count())\n",
    "print(customer_policy_detail_df.loc[customer_policy_detail_df[\"vintage\"]>(Q3+IQR*1.5),\"vintage\"].count())\n",
    "\n",
    "customer_detail_df[\"Gender\"]=customer_detail_df[\"Gender\"].str.strip()\n",
    "customer_detail_df[\"vehicle age\"]=customer_detail_df[\"vehicle age\"].str.strip()\n",
    "customer_detail_df[\"vehicle damage\"]=customer_detail_df[\"vehicle damage\"].str.strip()\n",
    "\n",
    "customer_detail_df[\"Gender\"]=customer_detail_df[\"Gender\"].str.lower()\n",
    "customer_detail_df[\"vehicle age\"]=customer_detail_df[\"vehicle age\"].str.lower()\n",
    "customer_detail_df[\"vehicle damage\"]=customer_detail_df[\"vehicle damage\"].str.lower()\n",
    "\n",
    "dummies_gender=pd.get_dummies(customer_detail_df[\"Gender\"])\n",
    "dummies_vehicle_age=pd.get_dummies(customer_detail_df[\"vehicle age\"])\n",
    "dummies_vehicle_damage=pd.get_dummies(customer_detail_df[\"vehicle damage\"])\n",
    "dummies_d_l_p=pd.get_dummies(customer_detail_df[\"driving licence present\"])\n",
    "dummies_p_i=pd.get_dummies(customer_detail_df[\"previously insured\"])\n",
    "dummies_response=pd.get_dummies(customer_policy_detail_df[\"response\"])\n",
    "\n",
    "print(customer_detail_df.duplicated().sum())\n",
    "print(customer_policy_detail_df.duplicated().sum())"
   ]
  },
  {
   "cell_type": "markdown",
   "id": "aaa8f9b3",
   "metadata": {},
   "source": [
    "# 3"
   ]
  },
  {
   "cell_type": "code",
   "execution_count": null,
   "id": "163cc7bb",
   "metadata": {},
   "outputs": [],
   "source": [
    "master_df=pd.merge(customer_detail_df,customer_policy_detail_df,on='customer_id')"
   ]
  },
  {
   "cell_type": "markdown",
   "id": "cc8019b6",
   "metadata": {},
   "source": [
    "# 4"
   ]
  },
  {
   "cell_type": "code",
   "execution_count": null,
   "id": "5a1ac9de",
   "metadata": {},
   "outputs": [],
   "source": [
    "aap_gender_df=master_df.groupby([\"Gender\"])[\"annual premium (in Rs)\"].mean()\n",
    "aap_age_df=master_df.groupby([\"age\"])[\"annual premium (in Rs)\"].mean()\n",
    "aap_v_age_df=master_df.groupby([\"vehicle age\"])[\"annual premium (in Rs)\"].mean()"
   ]
  },
  {
   "cell_type": "markdown",
   "id": "145c32c3",
   "metadata": {},
   "source": [
    "# 5"
   ]
  },
  {
   "cell_type": "code",
   "execution_count": null,
   "id": "5b866b2d",
   "metadata": {},
   "outputs": [],
   "source": [
    "Correlation_coefficient=master_df[\"age\"].corr(master_df[\"annual premium (in Rs)\"])\n",
    "print(Correlation_coefficient)"
   ]
  }
 ],
 "metadata": {
  "kernelspec": {
   "display_name": "Python 3 (ipykernel)",
   "language": "python",
   "name": "python3"
  },
  "language_info": {
   "codemirror_mode": {
    "name": "ipython",
    "version": 3
   },
   "file_extension": ".py",
   "mimetype": "text/x-python",
   "name": "python",
   "nbconvert_exporter": "python",
   "pygments_lexer": "ipython3",
   "version": "3.9.12"
  }
 },
 "nbformat": 4,
 "nbformat_minor": 5
}
